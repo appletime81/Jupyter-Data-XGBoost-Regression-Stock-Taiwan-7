{
 "cells": [
  {
   "cell_type": "code",
   "execution_count": null,
   "metadata": {},
   "outputs": [],
   "source": [
    "# Copyright © 2021 LEADERG Inc. All rights reserved. Please keep it private. Publish to internet is not allowed. "
   ]
  },
  {
   "cell_type": "code",
   "execution_count": null,
   "metadata": {},
   "outputs": [],
   "source": [
    "# Import necessary packages \n",
    "import sys\n",
    "import pandas as pd\n",
    "import time\n",
    "import os"
   ]
  },
  {
   "cell_type": "code",
   "execution_count": null,
   "metadata": {},
   "outputs": [],
   "source": [
    "import ssl\n",
    "ssl._create_default_https_context = ssl._create_unverified_context"
   ]
  },
  {
   "cell_type": "code",
   "execution_count": null,
   "metadata": {},
   "outputs": [],
   "source": [
    "def intro():\n",
    "\t#print('The program is about to fetch data from Taiwan Stock Exchange.', flush = True)\n",
    "    print('\\n程式即將從台灣證券交易所獲取股票相關數據。')\n",
    "\t#print('Due to TWSE\\'s regulation, the program has to fetch the information', flush = True)\n",
    "    #print('slowly to prevent your IP address from a temporary ban.', flush = True)\n",
    "    print('根據台灣證券交易所規定的關係，程式必須緩慢獲取數據，')\n",
    "    print('以防止您的IP地址被暫時禁止訪問台灣證券交易所。')\n",
    "\t#print('We apologize in advance for your incovience. ', flush = True)\n",
    "    print('對於您的不便，我們深表歉意。')\n",
    "\t#print('Please wait patiently while the program fetchs data, thank you!', flush = True)\n",
    "    print('在程序下載數據時，請耐心等待，謝謝！\\n')\n",
    "\t\n",
    "intro()"
   ]
  },
  {
   "cell_type": "code",
   "execution_count": null,
   "metadata": {},
   "outputs": [],
   "source": [
    "# parameters \n",
    "stockNum = pd.to_numeric(2330)\n",
    "fromYear = pd.to_numeric(2017)\n",
    "fromMonth = pd.to_numeric(1)\n",
    "toYear = pd.to_numeric(2020)\n",
    "toMonth = pd.to_numeric(5)\n",
    "outputPath = \"data/stock/stock-data.csv\""
   ]
  },
  {
   "cell_type": "code",
   "execution_count": null,
   "metadata": {},
   "outputs": [],
   "source": [
    "# This step is used to check if a valid number set has been offer as well as producing the \n",
    "# number of iteration that is required to complete the fetching process\n",
    "def iteration():\n",
    "\ttry:\n",
    "\t\tc1, c2, num = 0, 0, 0\n",
    "\t\tc1 = toYear - fromYear\n",
    "\t\tc2 = toMonth - fromMonth\n",
    "\t\tnum = c1*12+c2\n",
    "\t\tif num <= 0:\n",
    "\t\t\tprint('請輸入有效的日期區間')\n",
    "\t\telif (num%1)!=0: \n",
    "\t\t\tprint('請輸入有效的日期區間') \n",
    "\t\telse:\n",
    "\t\t\treturn num\n",
    "\texcept:\n",
    "\t\tprint('請輸入有效的日期區間')"
   ]
  },
  {
   "cell_type": "code",
   "execution_count": null,
   "metadata": {},
   "outputs": [],
   "source": [
    "# I change the date into a 8 digits number. The plus 100 is implemented because when we say \n",
    "# from January to May we meant 5 month worth of data, but to the computer it means 5 - 1 which\n",
    "# is 4. The plus 1 is implemented because TWSE's format requires a specific day and 00 won't work\n",
    "num = toYear*10000+toMonth*100+1+100\n",
    "temp = 0\n",
    "data = pd.DataFrame()\n",
    "for i in range(iteration()+1):\n",
    "\ttry:\n",
    "\t\tnum -= 100\n",
    "\t\tif (num%10000)<100:\n",
    "\t\t\tnum -= 8800\n",
    "\t\ttemp = pd.read_csv('http://www.twse.com.tw/en/exchangeReport/STOCK_DAY?response=csv&date={}&stockNo={}'.format(num, stockNum), header=1, usecols=[0,1,3,4,5,6])\n",
    "\t\tprint('已成功獲取數據：', num//10000, num%10000//100, flush = True)\n",
    "\t\tdata = pd.concat([temp[1:-4], data]) # The first row and the last four are text\n",
    "\t\ttime.sleep(11)\n",
    "\texcept:\n",
    "\t\tprint('獲取數據時出現錯誤：', num, flush = True)\n",
    "\t\tpass"
   ]
  },
  {
   "cell_type": "code",
   "execution_count": null,
   "metadata": {},
   "outputs": [],
   "source": [
    "# Although we only use close, but in the future we can possibly make use of the other information \n",
    "# to determine the close price, so I kept all the data\t\t\n",
    "data.columns=['date', 'volume', 'open', 'high', 'low', 'close']"
   ]
  },
  {
   "cell_type": "code",
   "execution_count": null,
   "metadata": {},
   "outputs": [],
   "source": [
    "# This step is to check if any text slip through the process.\n",
    "data = data.reset_index(drop=True)\n",
    "split = data.date.str.split('/')\n",
    "for i in range(len(data)):\n",
    "\tif(len(split[i])!=3):\n",
    "\t\tdata = data.drop(i)"
   ]
  },
  {
   "cell_type": "code",
   "execution_count": null,
   "metadata": {},
   "outputs": [],
   "source": [
    "# Kelvin: this step is to drop the data with volume = 0\n",
    "dataNoNa = data[data.volume != '0']"
   ]
  },
  {
   "cell_type": "code",
   "execution_count": null,
   "metadata": {},
   "outputs": [],
   "source": [
    "dataNoNa.to_csv(outputPath, index=False)"
   ]
  }
 ],
 "metadata": {
  "kernelspec": {
   "display_name": "Python 3",
   "language": "python",
   "name": "python3"
  },
  "language_info": {
   "codemirror_mode": {
    "name": "ipython",
    "version": 3
   },
   "file_extension": ".py",
   "mimetype": "text/x-python",
   "name": "python",
   "nbconvert_exporter": "python",
   "pygments_lexer": "ipython3",
   "version": "3.7.6"
  }
 },
 "nbformat": 4,
 "nbformat_minor": 4
}
