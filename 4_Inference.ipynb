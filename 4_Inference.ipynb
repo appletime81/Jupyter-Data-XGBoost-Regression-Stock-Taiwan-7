{
 "cells": [
  {
   "cell_type": "code",
   "execution_count": null,
   "metadata": {},
   "outputs": [],
   "source": [
    "# Copyright © 2021 LEADERG Inc. All rights reserved. Please keep it private. Publish to internet is not allowed. "
   ]
  },
  {
   "cell_type": "code",
   "execution_count": null,
   "metadata": {},
   "outputs": [],
   "source": [
    "import pandas as pd\n",
    "import numpy as np\n",
    "import matplotlib.pyplot as plt\n",
    "from sklearn import metrics\n",
    "from xgboost import XGBClassifier\n",
    "import xgboost\n",
    "import pickle\n",
    "import sys\n",
    "import re\n",
    "import datetime\n",
    "from pandas.plotting import register_matplotlib_converters\n",
    "register_matplotlib_converters()\n",
    "#import warnings\n",
    "#warnings.filterwarnings('ignore')"
   ]
  },
  {
   "cell_type": "code",
   "execution_count": null,
   "metadata": {},
   "outputs": [],
   "source": [
    "%matplotlib inline"
   ]
  },
  {
   "cell_type": "code",
   "execution_count": null,
   "metadata": {},
   "outputs": [],
   "source": [
    "# parameters\n",
    "inference_input_filename = \"data/stock/inference_input.csv\"\n",
    "model_filename = \"data/stock/model/model.sav\"\n",
    "scaler_filename = \"data/stock/model/scaler.pkl\"\n",
    "inference_output_filename = \"data/stock/inference_output.csv\""
   ]
  },
  {
   "cell_type": "code",
   "execution_count": null,
   "metadata": {},
   "outputs": [],
   "source": [
    "# read csv\n",
    "dataset_org = pd.read_csv(inference_input_filename)\n",
    "dataset = dataset_org.copy()"
   ]
  },
  {
   "cell_type": "code",
   "execution_count": null,
   "metadata": {},
   "outputs": [],
   "source": [
    "# drop the first column\n",
    "dataset = dataset.drop(dataset.columns[[0]],axis=1)"
   ]
  },
  {
   "cell_type": "code",
   "execution_count": null,
   "metadata": {},
   "outputs": [],
   "source": [
    "for i in dataset.columns:\n",
    "    # deal with stock volume which has ','\n",
    "    dataset[i] = dataset[i].replace(',', '', regex=True)\n",
    "    dataset[i] = pd.to_numeric(dataset[i], errors='coerce')"
   ]
  },
  {
   "cell_type": "code",
   "execution_count": null,
   "metadata": {},
   "outputs": [],
   "source": [
    "# if dataset contains Nan, then exit\n",
    "if dataset.isnull().values.sum() > 0:\n",
    "    listna = np.argwhere(dataset.isnull().values).tolist()\n",
    "    for listna_list in listna:\n",
    "        print(\"ERROR!Value (%d, %d) is empty!\" %(int(listna_list[0]) + 2,int(listna_list[1]) + 2))\n",
    "    sys.exit(1)"
   ]
  },
  {
   "cell_type": "code",
   "execution_count": null,
   "metadata": {},
   "outputs": [],
   "source": [
    "#get prediction day from the last column of the data\n",
    "close_day = ''\n",
    "for i in dataset_org.columns:\n",
    "\tclose_day = i\n",
    "\n",
    "days = re.findall(r'(\\d+)', close_day)\n",
    "\n",
    "dataset_column = dataset.shape[1]\n",
    "\n",
    "days = int(days[0])\n",
    "\n",
    "\n",
    "datasetNoNA = dataset[0:-days]\n",
    "datasetNoNA_all = dataset"
   ]
  },
  {
   "cell_type": "code",
   "execution_count": null,
   "metadata": {},
   "outputs": [],
   "source": [
    "X = dataset.iloc[:,0:-1]\n",
    "print(\"Shape of X = \", X.shape)\n",
    "\n",
    "Y = dataset.iloc[:,-1]\n",
    "print(\"Shape of Y = \", Y.shape)"
   ]
  },
  {
   "cell_type": "code",
   "execution_count": null,
   "metadata": {},
   "outputs": [],
   "source": [
    "# normalization\n",
    "from pickle import load\n",
    "\n",
    "# load the scaler\n",
    "scaler = load(open(scaler_filename, 'rb'))\n",
    "\n",
    "# transform the training dataset\n",
    "X_norm = scaler.transform(X)"
   ]
  },
  {
   "cell_type": "code",
   "execution_count": null,
   "metadata": {},
   "outputs": [],
   "source": [
    "# load the model from disk\n",
    "regr = pickle.load(open(model_filename, 'rb'))"
   ]
  },
  {
   "cell_type": "code",
   "execution_count": null,
   "metadata": {},
   "outputs": [],
   "source": [
    "# calculate predictions\n",
    "predictions = regr.predict(X_norm)"
   ]
  },
  {
   "cell_type": "code",
   "execution_count": null,
   "metadata": {},
   "outputs": [],
   "source": [
    "# print RMSR, R2\n",
    "print('\\n均方根誤差: %.5f' %( np.sqrt(metrics.mean_squared_error(Y[0:-days], predictions[0:-days]))))\n",
    "print('R 平方值: %.5f\\n' %( metrics.r2_score(Y[0:-days], predictions[0:-days])))"
   ]
  },
  {
   "cell_type": "code",
   "execution_count": null,
   "metadata": {},
   "outputs": [],
   "source": [
    "# restore to original predictions\n",
    "#Y_org = Y*(data_ori_max[-1]-data_ori_min[-1]) + data_ori_mean[-1]\n",
    "Y_org = Y\n",
    "#predictions_cal = predictions*(data_max[-1]-data_min[-1]) + data_mean[-1]\n",
    "predictions_cal = predictions.copy()\n",
    "\n",
    "#predictions_cal = np.concatenate([predictions[0:-days]*(data_ori_max[-1]-data_ori_min[-1]) + data_ori_mean[-1], predictions[-days:]*(data_max[-1]-data_min[-1]) + data_mean[-1]], axis=0)\n",
    "\n",
    "predictions_org = pd.DataFrame(predictions_cal, columns=['prediction'])\n",
    "\n",
    "last_day_close = dataset_org.iloc[dataset_org.index[-1],-2]\n",
    "\n",
    "print(dataset_org.date[dataset_org.index[-1]], '收盤價 %.2f 元' %(last_day_close))"
   ]
  },
  {
   "cell_type": "code",
   "execution_count": null,
   "metadata": {},
   "outputs": [],
   "source": [
    "predictions_close_price = []\n",
    "predictions_updown = []\n",
    "predictions_amp = []\n",
    "i = days\n",
    "while i > 0:\n",
    "    if type(predictions_cal[-i]) != type(last_day_close) :\n",
    "\t#last_day = last_day.replace(',', '')\n",
    "    \tlast_day_close = pd.to_numeric(last_day_close)\n",
    "\n",
    "    updown = predictions_cal[-i]-last_day_close\n",
    "    amp = (updown)/last_day_close\n",
    "    predictions_close_price.append(predictions_cal[-i])\n",
    "    predictions_updown.append(updown)\n",
    "    predictions_amp.append(amp*100)\n",
    "    # print close price, up or down... information\n",
    "    #print('AI 預測', days-i + 1, '天後收盤價 %5.2f 元，漲跌 % 5.2f 元 ( % 5.2f %%)' %(predictions_cal[-i], updown, (amp*100)))\n",
    "    i = i - 1;"
   ]
  },
  {
   "cell_type": "code",
   "execution_count": null,
   "metadata": {},
   "outputs": [],
   "source": [
    "#Calculate the display digits\n",
    "display_predictions_close_price = len(str(int(max(predictions_close_price))))\n",
    "\n",
    "if (int(len(str(int(min(predictions_updown)))) > int(len(str(int(max(predictions_updown))))))):\n",
    "    display_predictions_updown = len(str(int(min(predictions_updown))))\n",
    "else:\n",
    "    display_predictions_updown = len(str(int(max(predictions_updown)))) + 1\n",
    "\n",
    "if (int(len(str(int(min(predictions_amp)))) > int(len(str(int(max(predictions_amp))))))):\n",
    "    display_predictions_amp = len(str(int(min(predictions_amp))))\n",
    "else:\n",
    "    display_predictions_amp = len(str(int(max(predictions_amp))))\n",
    "\n",
    "for i in range(days):\n",
    "    print('AI 預測', i + 1, '天後收盤價 %*.2f 元，漲跌 % +*.2f 元 ( % +*.2f %%)' %(display_predictions_close_price + 3, predictions_close_price[i],display_predictions_updown + 3, predictions_updown[i], display_predictions_amp + 3, predictions_amp[i]))\n",
    "print('免責聲明：LEADERG AI ZOO，預測結果僅供技術研究，不負任何責任。')"
   ]
  },
  {
   "cell_type": "code",
   "execution_count": null,
   "metadata": {},
   "outputs": [],
   "source": [
    "# save predictions to result.csv\n",
    "dataset_prediction = pd.concat([dataset_org, predictions_org], axis=1)\n",
    "dataset_prediction.to_csv(inference_output_filename, index=False)"
   ]
  },
  {
   "cell_type": "code",
   "execution_count": null,
   "metadata": {},
   "outputs": [],
   "source": [
    "# show results\n",
    "plt_x_ori = dataset_org['date']\n",
    "plt_x = plt_x_ori[days:]\n",
    "plt_x = pd.to_datetime(plt_x, format='%Y-%m-%d')\n",
    "plt_x_length = plt_x.shape[0]\n",
    "\n",
    "last_day_weekday_name = plt_x[int(plt_x_length)-1 + days].day_name()\n",
    "\n",
    "last_day_weekday = 0\n",
    "\n",
    "if (last_day_weekday_name == 'Monday'):\n",
    "    last_day_weekday = 1\n",
    "elif (last_day_weekday_name == 'Tuesday'):\n",
    "    last_day_weekday = 2\n",
    "elif (last_day_weekday_name == 'Wednesday'):\n",
    "    last_day_weekday = 3\n",
    "elif (last_day_weekday_name == 'Thursday'):\n",
    "    last_day_weekday = 4\n",
    "elif (last_day_weekday_name == 'Friday'):\n",
    "    last_day_weekday = 5\n",
    "elif (last_day_weekday_name == 'Saturday'):\n",
    "    last_day_weekday = 6\n",
    "\n",
    "i = 0\n",
    "while (i < days):\n",
    "    after_days = i + 1\n",
    "    if (last_day_weekday + after_days > 5 and after_days <= 5):\n",
    "        after_days = after_days + 2\n",
    "    elif (after_days > 5):\n",
    "        if (after_days >= 7):\n",
    "            after_days = after_days + 2 * int(after_days / 7);\n",
    "        after_days = after_days + 2\n",
    "        \n",
    "    delta = datetime.timedelta(days=after_days)\n",
    "    #print(plt_x[int(plt_x_length)-1 + days] + delta)\n",
    "    plt_x.loc[int(plt_x_length) + days + i] = plt_x[int(plt_x_length)-1 + days] + delta\n",
    "    i = i + 1\n",
    "\n",
    "plt.subplots(figsize=(12,8))\n",
    "\n",
    "if (days != 0):\n",
    "    line_1 = plt.plot(plt_x[0:-days], Y_org[0:-days], 'b', label='True')\n",
    "else:\n",
    "    line_1 = plt.plot(plt_x, Y_org, 'b', label='True')\n",
    "line_2 = plt.plot(plt_x, predictions_org.iloc[:,-1], 'r--', label='Predicted')\n",
    "plt.ylabel('Predicted Value')\n",
    "#plt.xlabel('date')\n",
    "plt.legend()\n",
    "plt.show()  "
   ]
  },
  {
   "cell_type": "code",
   "execution_count": null,
   "metadata": {},
   "outputs": [],
   "source": []
  }
 ],
 "metadata": {
  "kernelspec": {
   "display_name": "Python 3 (ipykernel)",
   "language": "python",
   "name": "python3"
  },
  "language_info": {
   "codemirror_mode": {
    "name": "ipython",
    "version": 3
   },
   "file_extension": ".py",
   "mimetype": "text/x-python",
   "name": "python",
   "nbconvert_exporter": "python",
   "pygments_lexer": "ipython3",
   "version": "3.9.12"
  }
 },
 "nbformat": 4,
 "nbformat_minor": 4
}
